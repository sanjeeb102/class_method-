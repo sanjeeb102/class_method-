{
 "cells": [
  {
   "cell_type": "code",
   "execution_count": 15,
   "id": "59fc1d06",
   "metadata": {},
   "outputs": [
    {
     "name": "stdout",
     "output_type": "stream",
     "text": [
      "Enter x value :10\n",
      "Enter n value :2\n",
      "pow(x,n) value is : 100\n"
     ]
    }
   ],
   "source": [
    "x=int(input(\"Enter x value :\"))\n",
    "n=int(input(\"Enter n value :\"))\n",
    "\n",
    "class py_pow:\n",
    "    def powr(self, x, n):\n",
    "        if x==0 or x==1 or n==1:\n",
    "            return x \n",
    "\n",
    "        if x==-1:\n",
    "            if n%2 ==0:\n",
    "                return 1\n",
    "            else:\n",
    "                return -1\n",
    "        if n==0:\n",
    "            return 1\n",
    "        if n<0:\n",
    "            return 1/self.powr(x,-n)\n",
    "        val = self.powr(x,n//2)\n",
    "        if n%2 ==0:\n",
    "            return val*val\n",
    "        return val*val*x\n",
    "\n",
    "print(\"pow(x,n) value is :\",py_pow().powr(x,n))"
   ]
  },
  {
   "cell_type": "code",
   "execution_count": null,
   "id": "9700579a",
   "metadata": {},
   "outputs": [],
   "source": []
  }
 ],
 "metadata": {
  "kernelspec": {
   "display_name": "Python 3 (ipykernel)",
   "language": "python",
   "name": "python3"
  },
  "language_info": {
   "codemirror_mode": {
    "name": "ipython",
    "version": 3
   },
   "file_extension": ".py",
   "mimetype": "text/x-python",
   "name": "python",
   "nbconvert_exporter": "python",
   "pygments_lexer": "ipython3",
   "version": "3.10.0"
  }
 },
 "nbformat": 4,
 "nbformat_minor": 5
}
